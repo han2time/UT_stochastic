{
 "cells": [
  {
   "cell_type": "code",
   "execution_count": 1,
   "metadata": {},
   "outputs": [
    {
     "data": {
      "text/plain": [
       "[10, 11, 5]"
      ]
     },
     "execution_count": 1,
     "metadata": {},
     "output_type": "execute_result"
    }
   ],
   "source": [
    "# Question 1\n",
    "x = [3,9,10,11,5]\n",
    "x[-3:]"
   ]
  },
  {
   "cell_type": "code",
   "execution_count": 2,
   "metadata": {},
   "outputs": [
    {
     "data": {
      "text/html": [
       "<div>\n",
       "<style scoped>\n",
       "    .dataframe tbody tr th:only-of-type {\n",
       "        vertical-align: middle;\n",
       "    }\n",
       "\n",
       "    .dataframe tbody tr th {\n",
       "        vertical-align: top;\n",
       "    }\n",
       "\n",
       "    .dataframe thead th {\n",
       "        text-align: right;\n",
       "    }\n",
       "</style>\n",
       "<table border=\"1\" class=\"dataframe\">\n",
       "  <thead>\n",
       "    <tr style=\"text-align: right;\">\n",
       "      <th></th>\n",
       "      <th>A</th>\n",
       "      <th>B</th>\n",
       "      <th>C</th>\n",
       "      <th>D</th>\n",
       "    </tr>\n",
       "  </thead>\n",
       "  <tbody>\n",
       "  </tbody>\n",
       "</table>\n",
       "</div>"
      ],
      "text/plain": [
       "Empty DataFrame\n",
       "Columns: [A, B, C, D]\n",
       "Index: []"
      ]
     },
     "execution_count": 2,
     "metadata": {},
     "output_type": "execute_result"
    }
   ],
   "source": [
    "# Question 2\n",
    "import pandas as pd\n",
    "t = pd.DataFrame(columns=['A','B','C','D'])\n",
    "t"
   ]
  },
  {
   "cell_type": "code",
   "execution_count": 4,
   "metadata": {},
   "outputs": [
    {
     "name": "stdout",
     "output_type": "stream",
     "text": [
      "      A    B    C    D\n",
      "10  NaN  NaN  NaN  NaN\n",
      "20  NaN  NaN  NaN  NaN\n",
      "30  NaN  NaN  NaN  NaN\n",
      "40  NaN  NaN  NaN  NaN\n",
      "50  NaN  NaN  NaN  NaN\n",
      "<class 'pandas.core.frame.DataFrame'>\n"
     ]
    }
   ],
   "source": [
    "# Question 3\n",
    "t = pd.DataFrame(index=[10, 20, 30, 40, 50], columns=['A','B','C','D'])\n",
    "print(t)\n",
    "print(type(t))"
   ]
  },
  {
   "cell_type": "code",
   "execution_count": 6,
   "metadata": {},
   "outputs": [
    {
     "data": {
      "text/plain": [
       "A    NaN\n",
       "B    NaN\n",
       "C    NaN\n",
       "D    NaN\n",
       "Name: 20, dtype: object"
      ]
     },
     "execution_count": 6,
     "metadata": {},
     "output_type": "execute_result"
    }
   ],
   "source": [
    "# Question 4\n",
    "t.loc[20]"
   ]
  },
  {
   "cell_type": "code",
   "execution_count": 7,
   "metadata": {},
   "outputs": [
    {
     "data": {
      "text/html": [
       "<div>\n",
       "<style scoped>\n",
       "    .dataframe tbody tr th:only-of-type {\n",
       "        vertical-align: middle;\n",
       "    }\n",
       "\n",
       "    .dataframe tbody tr th {\n",
       "        vertical-align: top;\n",
       "    }\n",
       "\n",
       "    .dataframe thead th {\n",
       "        text-align: right;\n",
       "    }\n",
       "</style>\n",
       "<table border=\"1\" class=\"dataframe\">\n",
       "  <thead>\n",
       "    <tr style=\"text-align: right;\">\n",
       "      <th></th>\n",
       "      <th>A</th>\n",
       "      <th>B</th>\n",
       "      <th>C</th>\n",
       "      <th>D</th>\n",
       "    </tr>\n",
       "  </thead>\n",
       "  <tbody>\n",
       "    <tr>\n",
       "      <th>10</th>\n",
       "      <td>NaN</td>\n",
       "      <td>NaN</td>\n",
       "      <td>NaN</td>\n",
       "      <td>NaN</td>\n",
       "    </tr>\n",
       "    <tr>\n",
       "      <th>20</th>\n",
       "      <td>NaN</td>\n",
       "      <td>NaN</td>\n",
       "      <td>NaN</td>\n",
       "      <td>NaN</td>\n",
       "    </tr>\n",
       "    <tr>\n",
       "      <th>30</th>\n",
       "      <td>NaN</td>\n",
       "      <td>NaN</td>\n",
       "      <td>NaN</td>\n",
       "      <td>NaN</td>\n",
       "    </tr>\n",
       "  </tbody>\n",
       "</table>\n",
       "</div>"
      ],
      "text/plain": [
       "      A    B    C    D\n",
       "10  NaN  NaN  NaN  NaN\n",
       "20  NaN  NaN  NaN  NaN\n",
       "30  NaN  NaN  NaN  NaN"
      ]
     },
     "execution_count": 7,
     "metadata": {},
     "output_type": "execute_result"
    }
   ],
   "source": [
    "# Question 5\n",
    "t.loc[:30]"
   ]
  },
  {
   "cell_type": "code",
   "execution_count": 8,
   "metadata": {},
   "outputs": [
    {
     "data": {
      "text/html": [
       "<div>\n",
       "<style scoped>\n",
       "    .dataframe tbody tr th:only-of-type {\n",
       "        vertical-align: middle;\n",
       "    }\n",
       "\n",
       "    .dataframe tbody tr th {\n",
       "        vertical-align: top;\n",
       "    }\n",
       "\n",
       "    .dataframe thead th {\n",
       "        text-align: right;\n",
       "    }\n",
       "</style>\n",
       "<table border=\"1\" class=\"dataframe\">\n",
       "  <thead>\n",
       "    <tr style=\"text-align: right;\">\n",
       "      <th></th>\n",
       "      <th>A</th>\n",
       "      <th>B</th>\n",
       "      <th>C</th>\n",
       "      <th>D</th>\n",
       "    </tr>\n",
       "  </thead>\n",
       "  <tbody>\n",
       "    <tr>\n",
       "      <th>10</th>\n",
       "      <td>NaN</td>\n",
       "      <td>NaN</td>\n",
       "      <td>NaN</td>\n",
       "      <td>NaN</td>\n",
       "    </tr>\n",
       "    <tr>\n",
       "      <th>20</th>\n",
       "      <td>NaN</td>\n",
       "      <td>NaN</td>\n",
       "      <td>NaN</td>\n",
       "      <td>NaN</td>\n",
       "    </tr>\n",
       "    <tr>\n",
       "      <th>30</th>\n",
       "      <td>NaN</td>\n",
       "      <td>NaN</td>\n",
       "      <td>NaN</td>\n",
       "      <td>NaN</td>\n",
       "    </tr>\n",
       "  </tbody>\n",
       "</table>\n",
       "</div>"
      ],
      "text/plain": [
       "      A    B    C    D\n",
       "10  NaN  NaN  NaN  NaN\n",
       "20  NaN  NaN  NaN  NaN\n",
       "30  NaN  NaN  NaN  NaN"
      ]
     },
     "execution_count": 8,
     "metadata": {},
     "output_type": "execute_result"
    }
   ],
   "source": [
    "# Question 6\n",
    "t[:3]"
   ]
  },
  {
   "cell_type": "code",
   "execution_count": 10,
   "metadata": {},
   "outputs": [
    {
     "name": "stdout",
     "output_type": "stream",
     "text": [
      "      A\n",
      "10  NaN\n",
      "20  NaN\n",
      "30  NaN\n",
      "40  NaN\n",
      "50  NaN\n",
      "<class 'pandas.core.frame.DataFrame'>\n"
     ]
    }
   ],
   "source": [
    "# Question 7\n",
    "print(t[['A']])\n",
    "print(type(t[['A']]))"
   ]
  },
  {
   "cell_type": "code",
   "execution_count": 13,
   "metadata": {},
   "outputs": [
    {
     "name": "stdout",
     "output_type": "stream",
     "text": [
      "<class 'pandas.core.frame.DataFrame'>\n",
      "<class 'pandas.core.series.Series'>\n",
      "<class 'pandas.core.series.Series'>\n"
     ]
    }
   ],
   "source": [
    "# Question 8\n",
    "print(type(t[['B']]))\n",
    "print(type(t['B']))\n",
    "print(type(t.B))"
   ]
  },
  {
   "cell_type": "code",
   "execution_count": 14,
   "metadata": {},
   "outputs": [
    {
     "data": {
      "text/html": [
       "<div>\n",
       "<style scoped>\n",
       "    .dataframe tbody tr th:only-of-type {\n",
       "        vertical-align: middle;\n",
       "    }\n",
       "\n",
       "    .dataframe tbody tr th {\n",
       "        vertical-align: top;\n",
       "    }\n",
       "\n",
       "    .dataframe thead th {\n",
       "        text-align: right;\n",
       "    }\n",
       "</style>\n",
       "<table border=\"1\" class=\"dataframe\">\n",
       "  <thead>\n",
       "    <tr style=\"text-align: right;\">\n",
       "      <th></th>\n",
       "      <th>A</th>\n",
       "      <th>C</th>\n",
       "    </tr>\n",
       "  </thead>\n",
       "  <tbody>\n",
       "    <tr>\n",
       "      <th>10</th>\n",
       "      <td>NaN</td>\n",
       "      <td>NaN</td>\n",
       "    </tr>\n",
       "    <tr>\n",
       "      <th>20</th>\n",
       "      <td>NaN</td>\n",
       "      <td>NaN</td>\n",
       "    </tr>\n",
       "    <tr>\n",
       "      <th>30</th>\n",
       "      <td>NaN</td>\n",
       "      <td>NaN</td>\n",
       "    </tr>\n",
       "  </tbody>\n",
       "</table>\n",
       "</div>"
      ],
      "text/plain": [
       "      A    C\n",
       "10  NaN  NaN\n",
       "20  NaN  NaN\n",
       "30  NaN  NaN"
      ]
     },
     "execution_count": 14,
     "metadata": {},
     "output_type": "execute_result"
    }
   ],
   "source": [
    "# Question 9 \n",
    "t[:3][['A','C']]"
   ]
  },
  {
   "cell_type": "code",
   "execution_count": 16,
   "metadata": {},
   "outputs": [
    {
     "name": "stderr",
     "output_type": "stream",
     "text": [
      "C:\\Users\\Han\\AppData\\Local\\Continuum\\anaconda3\\lib\\site-packages\\ipykernel\\__main__.py:2: SettingWithCopyWarning: \n",
      "A value is trying to be set on a copy of a slice from a DataFrame.\n",
      "Try using .loc[row_indexer,col_indexer] = value instead\n",
      "\n",
      "See the caveats in the documentation: http://pandas.pydata.org/pandas-docs/stable/indexing.html#indexing-view-versus-copy\n",
      "  from ipykernel import kernelapp as app\n",
      "C:\\Users\\Han\\AppData\\Local\\Continuum\\anaconda3\\lib\\site-packages\\pandas\\core\\frame.py:3141: SettingWithCopyWarning: \n",
      "A value is trying to be set on a copy of a slice from a DataFrame\n",
      "\n",
      "See the caveats in the documentation: http://pandas.pydata.org/pandas-docs/stable/indexing.html#indexing-view-versus-copy\n",
      "  self.loc._setitem_with_indexer((slice(None), indexer), value)\n",
      "C:\\Users\\Han\\AppData\\Local\\Continuum\\anaconda3\\lib\\site-packages\\pandas\\core\\frame.py:3113: SettingWithCopyWarning: \n",
      "A value is trying to be set on a copy of a slice from a DataFrame\n",
      "\n",
      "See the caveats in the documentation: http://pandas.pydata.org/pandas-docs/stable/indexing.html#indexing-view-versus-copy\n",
      "  self._setitem_array(key, value)\n"
     ]
    },
    {
     "data": {
      "text/html": [
       "<div>\n",
       "<style scoped>\n",
       "    .dataframe tbody tr th:only-of-type {\n",
       "        vertical-align: middle;\n",
       "    }\n",
       "\n",
       "    .dataframe tbody tr th {\n",
       "        vertical-align: top;\n",
       "    }\n",
       "\n",
       "    .dataframe thead th {\n",
       "        text-align: right;\n",
       "    }\n",
       "</style>\n",
       "<table border=\"1\" class=\"dataframe\">\n",
       "  <thead>\n",
       "    <tr style=\"text-align: right;\">\n",
       "      <th></th>\n",
       "      <th>A</th>\n",
       "      <th>B</th>\n",
       "      <th>C</th>\n",
       "      <th>D</th>\n",
       "    </tr>\n",
       "  </thead>\n",
       "  <tbody>\n",
       "    <tr>\n",
       "      <th>10</th>\n",
       "      <td>10</td>\n",
       "      <td>10</td>\n",
       "      <td>NaN</td>\n",
       "      <td>NaN</td>\n",
       "    </tr>\n",
       "    <tr>\n",
       "      <th>20</th>\n",
       "      <td>10</td>\n",
       "      <td>10</td>\n",
       "      <td>NaN</td>\n",
       "      <td>NaN</td>\n",
       "    </tr>\n",
       "    <tr>\n",
       "      <th>30</th>\n",
       "      <td>10</td>\n",
       "      <td>10</td>\n",
       "      <td>NaN</td>\n",
       "      <td>NaN</td>\n",
       "    </tr>\n",
       "    <tr>\n",
       "      <th>40</th>\n",
       "      <td>NaN</td>\n",
       "      <td>NaN</td>\n",
       "      <td>NaN</td>\n",
       "      <td>NaN</td>\n",
       "    </tr>\n",
       "    <tr>\n",
       "      <th>50</th>\n",
       "      <td>NaN</td>\n",
       "      <td>NaN</td>\n",
       "      <td>NaN</td>\n",
       "      <td>NaN</td>\n",
       "    </tr>\n",
       "  </tbody>\n",
       "</table>\n",
       "</div>"
      ],
      "text/plain": [
       "      A    B    C    D\n",
       "10   10   10  NaN  NaN\n",
       "20   10   10  NaN  NaN\n",
       "30   10   10  NaN  NaN\n",
       "40  NaN  NaN  NaN  NaN\n",
       "50  NaN  NaN  NaN  NaN"
      ]
     },
     "execution_count": 16,
     "metadata": {},
     "output_type": "execute_result"
    }
   ],
   "source": [
    "# Question 10\n",
    "t[:3][['A', 'B']] = 10\n",
    "t"
   ]
  },
  {
   "cell_type": "code",
   "execution_count": null,
   "metadata": {},
   "outputs": [],
   "source": [
    "import numpy as np"
   ]
  },
  {
   "cell_type": "code",
   "execution_count": 24,
   "metadata": {},
   "outputs": [],
   "source": [
    "def calc_income_tax(income):                # Income does not include dividends and capital gains\n",
    "    ti = income - 24                        # Taxable income = income - deduction\n",
    "    tax1 = ((ti > 0)       & (ti <= 19.050))  * (0        + 0.10 * (ti - 0))\n",
    "    tax2 = ((ti > 19.050)  & (ti <= 77.400))  * (1.9050   + 0.12 * (ti - 19.050))\n",
    "    tax3 = ((ti > 77.400)  & (ti <= 165.000)) * (8.9070   + 0.22 * (ti - 77.400))\n",
    "    tax4 = ((ti > 165.000) & (ti <= 315.000)) * (28.1790  + 0.24 * (ti - 165.000))\n",
    "    tax5 = ((ti > 315.000) & (ti <= 400.000)) * (64.1790  + 0.32 * (ti - 315.000))\n",
    "    tax6 = ((ti > 400.000) & (ti <= 600.000)) * (91.3790  + 0.35 * (ti - 400.000))\n",
    "    tax7 = ((ti > 600.000)                  ) * (119.3965 + 0.37 * (ti - 600.000))\n",
    "    return tax1 + tax2 + tax3 + tax4 + tax5 + tax6 + tax7 "
   ]
  },
  {
   "cell_type": "code",
   "execution_count": 25,
   "metadata": {},
   "outputs": [],
   "source": [
    "def loop_over_all_ages(returns):\n",
    "    \n",
    "    account.iloc[0] = get_initial_account_value()\n",
    "        \n",
    "    for age in returns.index[1:]:\n",
    "        \n",
    "        # Inputs from tables\n",
    "        account_last  = account.loc[age-1]\n",
    "        market_return = returns.loc[age] \n",
    "        \n",
    "        # Account values before we make any transfers and tax payments\n",
    "        account_return = get_account_return(age, market_return)\n",
    "        account_new = account_last * (1+account_return)             \n",
    "        \n",
    "        # Deposits / withdrawals: \n",
    "        deposit  = get_deposits(  age, account_new)                    \n",
    "        withdraw = get_withdrawal(age, account_new)            \n",
    "            \n",
    "        # Tax\n",
    "        income_tax = calc_income_tax(withdraw)\n",
    "        \n",
    "        # Update tables\n",
    "        account .loc[age] = account_new + deposit - withdraw\n",
    "        spending.loc[age] = withdraw - income_tax"
   ]
  },
  {
   "cell_type": "code",
   "execution_count": 56,
   "metadata": {},
   "outputs": [],
   "source": [
    "def generate_empty_table():\n",
    "    ages  = [a for a in range(23,101)]\n",
    "    paths = ['p'+str(p) for p in range(1,1000)] # Need to have enough paths so the simulation converges\n",
    "    return pd.DataFrame(index=ages, columns=paths)\n",
    "\n",
    "def simulate_returns():\n",
    "    expected_ret    = 0.06\n",
    "    vol             = 0.2\n",
    "    returns         = generate_empty_table()\n",
    "    standard_normal = np.random.randn(len(returns.index), len(returns.columns))\n",
    "    returns.loc[:]  = np.exp(expected_ret + vol * standard_normal) - 1    \n",
    "    return returns\n",
    "\n",
    "def get_initial_account_value(): \n",
    "    return 0\n",
    "\n",
    "def get_account_return(age, market_return):\n",
    "    w = 0.9 # 1 - age/100.0  # weight in stocks: we reduce the weight as we get older\n",
    "    return w*market_return + (1-w)*0.02  # (1-w): weight in bonds\n",
    "\n",
    "def get_deposits(age, value):        # value: our account values (one row of the table)\n",
    "    if age == 24 :\n",
    "        deposit = 40\n",
    "    else :\n",
    "        deposit = 40 * (1.02**(age-24))\n",
    "#     if age <= 60:\n",
    "#         deposit = value * 0 + 40\n",
    "#     else:\n",
    "#         deposit = value * 0\n",
    "    return deposit  \n",
    "\n",
    "def get_withdrawal(age, value):      # value: our account values (one row of the table)\n",
    "        if age > 60:\n",
    "            withdraw = value * 0.04\n",
    "        else:\n",
    "            withdraw = value * 0\n",
    "        return withdraw "
   ]
  },
  {
   "cell_type": "code",
   "execution_count": 27,
   "metadata": {},
   "outputs": [],
   "source": [
    "account  = generate_empty_table()\n",
    "spending = generate_empty_table()\n",
    "weights = generate_empty_table()\n",
    "\n",
    "returns = simulate_returns()\n",
    "\n",
    "loop_over_all_ages(returns)"
   ]
  },
  {
   "cell_type": "code",
   "execution_count": 28,
   "metadata": {},
   "outputs": [
    {
     "data": {
      "text/plain": [
       "p1      1652.22\n",
       "p2      1032.26\n",
       "p3      1078.08\n",
       "p4       1222.8\n",
       "p5      913.221\n",
       "p6      1050.92\n",
       "p7      785.412\n",
       "p8      2114.66\n",
       "p9      1037.71\n",
       "p10     825.618\n",
       "p11     636.213\n",
       "p12     1694.01\n",
       "p13     910.737\n",
       "p14     856.413\n",
       "p15     1382.27\n",
       "p16     661.867\n",
       "p17     847.105\n",
       "p18     1050.22\n",
       "p19     1619.87\n",
       "p20     610.898\n",
       "p21     586.982\n",
       "p22     1110.17\n",
       "p23     864.766\n",
       "p24     1968.25\n",
       "p25     1160.39\n",
       "p26     549.569\n",
       "p27     1010.78\n",
       "p28     1234.48\n",
       "p29     1081.05\n",
       "p30     1752.81\n",
       "         ...   \n",
       "p970    1171.19\n",
       "p971    1794.98\n",
       "p972    1704.42\n",
       "p973    3040.38\n",
       "p974    1115.15\n",
       "p975    1439.71\n",
       "p976    860.735\n",
       "p977    580.646\n",
       "p978    917.362\n",
       "p979    504.831\n",
       "p980     717.55\n",
       "p981    1068.72\n",
       "p982    1211.62\n",
       "p983     910.64\n",
       "p984    1024.54\n",
       "p985    976.305\n",
       "p986    2018.28\n",
       "p987    873.555\n",
       "p988    929.332\n",
       "p989    1354.19\n",
       "p990    827.482\n",
       "p991      804.3\n",
       "p992    1208.34\n",
       "p993    1961.18\n",
       "p994    1159.85\n",
       "p995    1596.43\n",
       "p996    1075.12\n",
       "p997    1267.72\n",
       "p998    1392.04\n",
       "p999    1077.22\n",
       "Name: 40, Length: 999, dtype: object"
      ]
     },
     "execution_count": 28,
     "metadata": {},
     "output_type": "execute_result"
    }
   ],
   "source": [
    "# Question 11\n",
    "account.loc[40]"
   ]
  },
  {
   "cell_type": "code",
   "execution_count": 29,
   "metadata": {},
   "outputs": [
    {
     "data": {
      "text/plain": [
       "1149.5625268930223"
      ]
     },
     "execution_count": 29,
     "metadata": {},
     "output_type": "execute_result"
    }
   ],
   "source": [
    "# Question 12\n",
    "x = account.loc[40].quantile(0.6)\n",
    "x"
   ]
  },
  {
   "cell_type": "code",
   "execution_count": 32,
   "metadata": {},
   "outputs": [
    {
     "name": "stdout",
     "output_type": "stream",
     "text": [
      "297.97359629450426\n"
     ]
    }
   ],
   "source": [
    "# Question 13\n",
    "x = account.loc[30].quantile(0.3)\n",
    "print(x)"
   ]
  },
  {
   "cell_type": "code",
   "execution_count": 37,
   "metadata": {},
   "outputs": [
    {
     "data": {
      "text/plain": [
       "834.2225931418863"
      ]
     },
     "execution_count": 37,
     "metadata": {},
     "output_type": "execute_result"
    }
   ],
   "source": [
    "# Question 14\n",
    "account  = generate_empty_table()\n",
    "spending = generate_empty_table()\n",
    "weights = generate_empty_table()\n",
    "\n",
    "returns = simulate_returns()\n",
    "\n",
    "loop_over_all_ages(returns)\n",
    "\n",
    "account.loc[35].quantile(0.5)"
   ]
  },
  {
   "cell_type": "code",
   "execution_count": 42,
   "metadata": {},
   "outputs": [
    {
     "data": {
      "text/plain": [
       "182.90092130783447"
      ]
     },
     "execution_count": 42,
     "metadata": {},
     "output_type": "execute_result"
    }
   ],
   "source": [
    "# Question 15\n",
    "account  = generate_empty_table()\n",
    "spending = generate_empty_table()\n",
    "weights = generate_empty_table()\n",
    "\n",
    "returns = simulate_returns()\n",
    "\n",
    "loop_over_all_ages(returns)\n",
    "\n",
    "spending.loc[62].quantile(0.5)"
   ]
  },
  {
   "cell_type": "code",
   "execution_count": 46,
   "metadata": {},
   "outputs": [
    {
     "data": {
      "text/plain": [
       "1168.9257365817393"
      ]
     },
     "execution_count": 46,
     "metadata": {},
     "output_type": "execute_result"
    }
   ],
   "source": [
    "# Question 16\n",
    "account  = generate_empty_table()\n",
    "spending = generate_empty_table()\n",
    "weights = generate_empty_table()\n",
    "\n",
    "returns = simulate_returns()\n",
    "\n",
    "loop_over_all_ages(returns)\n",
    "\n",
    "account.loc[55].quantile(0.05)"
   ]
  },
  {
   "cell_type": "code",
   "execution_count": 49,
   "metadata": {},
   "outputs": [
    {
     "data": {
      "text/plain": [
       "1969.8621158326491"
      ]
     },
     "execution_count": 49,
     "metadata": {},
     "output_type": "execute_result"
    }
   ],
   "source": [
    "# Question 17\n",
    "account  = generate_empty_table()\n",
    "spending = generate_empty_table()\n",
    "weights = generate_empty_table()\n",
    "\n",
    "returns = simulate_returns()\n",
    "\n",
    "loop_over_all_ages(returns)\n",
    "\n",
    "account.loc[55].quantile(0.05)"
   ]
  },
  {
   "cell_type": "code",
   "execution_count": 51,
   "metadata": {},
   "outputs": [],
   "source": [
    "# Question 18\n",
    "account  = generate_empty_table()\n",
    "spending = generate_empty_table()\n",
    "weights = generate_empty_table()\n",
    "\n",
    "returns = simulate_returns()\n",
    "\n",
    "loop_over_all_ages(returns)"
   ]
  },
  {
   "cell_type": "code",
   "execution_count": 55,
   "metadata": {},
   "outputs": [
    {
     "name": "stdout",
     "output_type": "stream",
     "text": [
      "23.846897530895248\n"
     ]
    }
   ],
   "source": [
    "age = 75\n",
    "# Inputs from tables\n",
    "account_last  = account.loc[age-1]\n",
    "market_return = returns.loc[age] \n",
    "\n",
    "# Account values before we make any transfers and tax payments\n",
    "account_return = get_account_return(age, market_return)\n",
    "account_new = account_last * (1+account_return)             \n",
    "\n",
    "# Deposits / withdrawals: \n",
    "deposit  = get_deposits(  age, account_new)                    \n",
    "withdraw = get_withdrawal(age, account_new)            \n",
    "\n",
    "# Tax\n",
    "income_tax = calc_income_tax(withdraw)\n",
    "\n",
    "print(income_tax.quantile(0.5))\n"
   ]
  },
  {
   "cell_type": "code",
   "execution_count": 58,
   "metadata": {},
   "outputs": [
    {
     "data": {
      "text/plain": [
       "220.77258520167157"
      ]
     },
     "execution_count": 58,
     "metadata": {},
     "output_type": "execute_result"
    }
   ],
   "source": [
    "# Question 19\n",
    "account  = generate_empty_table()\n",
    "spending = generate_empty_table()\n",
    "weights = generate_empty_table()\n",
    "\n",
    "returns = simulate_returns()\n",
    "\n",
    "loop_over_all_ages(returns)\n",
    "\n",
    "spending.loc[65].quantile(0.4)"
   ]
  },
  {
   "cell_type": "code",
   "execution_count": null,
   "metadata": {},
   "outputs": [],
   "source": []
  },
  {
   "cell_type": "code",
   "execution_count": null,
   "metadata": {},
   "outputs": [],
   "source": []
  },
  {
   "cell_type": "code",
   "execution_count": null,
   "metadata": {},
   "outputs": [],
   "source": []
  },
  {
   "cell_type": "code",
   "execution_count": null,
   "metadata": {},
   "outputs": [],
   "source": []
  },
  {
   "cell_type": "code",
   "execution_count": null,
   "metadata": {},
   "outputs": [],
   "source": []
  },
  {
   "cell_type": "code",
   "execution_count": null,
   "metadata": {},
   "outputs": [],
   "source": []
  },
  {
   "cell_type": "code",
   "execution_count": null,
   "metadata": {},
   "outputs": [],
   "source": []
  },
  {
   "cell_type": "code",
   "execution_count": null,
   "metadata": {},
   "outputs": [],
   "source": []
  },
  {
   "cell_type": "code",
   "execution_count": null,
   "metadata": {},
   "outputs": [],
   "source": []
  },
  {
   "cell_type": "code",
   "execution_count": null,
   "metadata": {},
   "outputs": [],
   "source": []
  },
  {
   "cell_type": "code",
   "execution_count": null,
   "metadata": {},
   "outputs": [],
   "source": []
  },
  {
   "cell_type": "code",
   "execution_count": null,
   "metadata": {},
   "outputs": [],
   "source": []
  },
  {
   "cell_type": "code",
   "execution_count": null,
   "metadata": {},
   "outputs": [],
   "source": []
  },
  {
   "cell_type": "code",
   "execution_count": null,
   "metadata": {},
   "outputs": [],
   "source": []
  },
  {
   "cell_type": "code",
   "execution_count": null,
   "metadata": {},
   "outputs": [],
   "source": []
  },
  {
   "cell_type": "code",
   "execution_count": null,
   "metadata": {},
   "outputs": [],
   "source": []
  },
  {
   "cell_type": "code",
   "execution_count": null,
   "metadata": {},
   "outputs": [],
   "source": []
  }
 ],
 "metadata": {
  "kernelspec": {
   "display_name": "Python [conda env:anaconda3]",
   "language": "python",
   "name": "conda-env-anaconda3-py"
  },
  "language_info": {
   "codemirror_mode": {
    "name": "ipython",
    "version": 3
   },
   "file_extension": ".py",
   "mimetype": "text/x-python",
   "name": "python",
   "nbconvert_exporter": "python",
   "pygments_lexer": "ipython3",
   "version": "3.6.5"
  }
 },
 "nbformat": 4,
 "nbformat_minor": 2
}
