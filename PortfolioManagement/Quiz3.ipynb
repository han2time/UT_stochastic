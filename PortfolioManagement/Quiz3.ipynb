{
 "cells": [
  {
   "cell_type": "code",
   "execution_count": 44,
   "metadata": {},
   "outputs": [],
   "source": [
    "# Working with data:\n",
    "import numpy as np\n",
    "import pandas as pd  \n",
    "\n",
    "# Convenience methods:\n",
    "def rename_columns_to_tickers(self):                      \n",
    "    return self.rename(columns=lambda c: str(symbols(c).symbol))\n",
    "\n",
    "pd.DataFrame.rename_columns_to_tickers = rename_columns_to_tickers"
   ]
  },
  {
   "cell_type": "code",
   "execution_count": 2,
   "metadata": {},
   "outputs": [],
   "source": [
    "## Question 1"
   ]
  },
  {
   "cell_type": "code",
   "execution_count": 61,
   "metadata": {},
   "outputs": [],
   "source": [
    "data = get_pricing(['IRBT','ISRG','JNJ','SHY'], '2003-1-1', '2018-12-31', fields='close_price')\n",
    "data = data.rename_columns_to_tickers()"
   ]
  },
  {
   "cell_type": "code",
   "execution_count": 62,
   "metadata": {},
   "outputs": [
    {
     "data": {
      "text/html": [
       "<div>\n",
       "<table border=\"1\" class=\"dataframe\">\n",
       "  <thead>\n",
       "    <tr style=\"text-align: right;\">\n",
       "      <th></th>\n",
       "      <th>IRBT</th>\n",
       "      <th>ISRG</th>\n",
       "      <th>JNJ</th>\n",
       "      <th>SHY</th>\n",
       "    </tr>\n",
       "  </thead>\n",
       "  <tbody>\n",
       "    <tr>\n",
       "      <th>2003-01-02 00:00:00+00:00</th>\n",
       "      <td>NaN</td>\n",
       "      <td>4.067</td>\n",
       "      <td>36.363</td>\n",
       "      <td>69.895</td>\n",
       "    </tr>\n",
       "    <tr>\n",
       "      <th>2003-01-03 00:00:00+00:00</th>\n",
       "      <td>NaN</td>\n",
       "      <td>4.067</td>\n",
       "      <td>37.377</td>\n",
       "      <td>69.903</td>\n",
       "    </tr>\n",
       "    <tr>\n",
       "      <th>2003-01-06 00:00:00+00:00</th>\n",
       "      <td>NaN</td>\n",
       "      <td>4.067</td>\n",
       "      <td>37.706</td>\n",
       "      <td>69.861</td>\n",
       "    </tr>\n",
       "  </tbody>\n",
       "</table>\n",
       "</div>"
      ],
      "text/plain": [
       "                           IRBT   ISRG     JNJ     SHY\n",
       "2003-01-02 00:00:00+00:00   NaN  4.067  36.363  69.895\n",
       "2003-01-03 00:00:00+00:00   NaN  4.067  37.377  69.903\n",
       "2003-01-06 00:00:00+00:00   NaN  4.067  37.706  69.861"
      ]
     },
     "execution_count": 62,
     "metadata": {},
     "output_type": "execute_result"
    }
   ],
   "source": [
    "data[0:3]"
   ]
  },
  {
   "cell_type": "code",
   "execution_count": 5,
   "metadata": {},
   "outputs": [
    {
     "data": {
      "text/html": [
       "<div>\n",
       "<table border=\"1\" class=\"dataframe\">\n",
       "  <thead>\n",
       "    <tr style=\"text-align: right;\">\n",
       "      <th></th>\n",
       "      <th>IRBT</th>\n",
       "      <th>ISRG</th>\n",
       "      <th>JNJ</th>\n",
       "      <th>SHY</th>\n",
       "    </tr>\n",
       "  </thead>\n",
       "  <tbody>\n",
       "    <tr>\n",
       "      <th>2003-01-02 00:00:00+00:00</th>\n",
       "      <td>NaN</td>\n",
       "      <td>4.067</td>\n",
       "      <td>36.363</td>\n",
       "      <td>69.895</td>\n",
       "    </tr>\n",
       "    <tr>\n",
       "      <th>2003-01-03 00:00:00+00:00</th>\n",
       "      <td>NaN</td>\n",
       "      <td>4.067</td>\n",
       "      <td>37.377</td>\n",
       "      <td>69.903</td>\n",
       "    </tr>\n",
       "    <tr>\n",
       "      <th>2003-01-06 00:00:00+00:00</th>\n",
       "      <td>NaN</td>\n",
       "      <td>4.067</td>\n",
       "      <td>37.706</td>\n",
       "      <td>69.861</td>\n",
       "    </tr>\n",
       "  </tbody>\n",
       "</table>\n",
       "</div>"
      ],
      "text/plain": [
       "                           IRBT   ISRG     JNJ     SHY\n",
       "2003-01-02 00:00:00+00:00   NaN  4.067  36.363  69.895\n",
       "2003-01-03 00:00:00+00:00   NaN  4.067  37.377  69.903\n",
       "2003-01-06 00:00:00+00:00   NaN  4.067  37.706  69.861"
      ]
     },
     "execution_count": 5,
     "metadata": {},
     "output_type": "execute_result"
    }
   ],
   "source": [
    "data[:3]"
   ]
  },
  {
   "cell_type": "code",
   "execution_count": 6,
   "metadata": {},
   "outputs": [
    {
     "data": {
      "text/html": [
       "<div>\n",
       "<table border=\"1\" class=\"dataframe\">\n",
       "  <thead>\n",
       "    <tr style=\"text-align: right;\">\n",
       "      <th></th>\n",
       "      <th>IRBT</th>\n",
       "      <th>ISRG</th>\n",
       "      <th>JNJ</th>\n",
       "      <th>SHY</th>\n",
       "    </tr>\n",
       "  </thead>\n",
       "  <tbody>\n",
       "    <tr>\n",
       "      <th>2003-01-02 00:00:00+00:00</th>\n",
       "      <td>NaN</td>\n",
       "      <td>4.067</td>\n",
       "      <td>36.363</td>\n",
       "      <td>69.895</td>\n",
       "    </tr>\n",
       "    <tr>\n",
       "      <th>2003-01-03 00:00:00+00:00</th>\n",
       "      <td>NaN</td>\n",
       "      <td>4.067</td>\n",
       "      <td>37.377</td>\n",
       "      <td>69.903</td>\n",
       "    </tr>\n",
       "    <tr>\n",
       "      <th>2003-01-06 00:00:00+00:00</th>\n",
       "      <td>NaN</td>\n",
       "      <td>4.067</td>\n",
       "      <td>37.706</td>\n",
       "      <td>69.861</td>\n",
       "    </tr>\n",
       "  </tbody>\n",
       "</table>\n",
       "</div>"
      ],
      "text/plain": [
       "                           IRBT   ISRG     JNJ     SHY\n",
       "2003-01-02 00:00:00+00:00   NaN  4.067  36.363  69.895\n",
       "2003-01-03 00:00:00+00:00   NaN  4.067  37.377  69.903\n",
       "2003-01-06 00:00:00+00:00   NaN  4.067  37.706  69.861"
      ]
     },
     "execution_count": 6,
     "metadata": {},
     "output_type": "execute_result"
    }
   ],
   "source": [
    "data['2003-1-1':'2003-1-6']"
   ]
  },
  {
   "cell_type": "code",
   "execution_count": 7,
   "metadata": {},
   "outputs": [
    {
     "data": {
      "text/html": [
       "<div>\n",
       "<table border=\"1\" class=\"dataframe\">\n",
       "  <thead>\n",
       "    <tr style=\"text-align: right;\">\n",
       "      <th></th>\n",
       "      <th>IRBT</th>\n",
       "      <th>ISRG</th>\n",
       "      <th>JNJ</th>\n",
       "      <th>SHY</th>\n",
       "    </tr>\n",
       "  </thead>\n",
       "  <tbody>\n",
       "    <tr>\n",
       "      <th>2003-01-02 00:00:00+00:00</th>\n",
       "      <td>NaN</td>\n",
       "      <td>4.067</td>\n",
       "      <td>36.363</td>\n",
       "      <td>69.895</td>\n",
       "    </tr>\n",
       "    <tr>\n",
       "      <th>2003-01-03 00:00:00+00:00</th>\n",
       "      <td>NaN</td>\n",
       "      <td>4.067</td>\n",
       "      <td>37.377</td>\n",
       "      <td>69.903</td>\n",
       "    </tr>\n",
       "    <tr>\n",
       "      <th>2003-01-06 00:00:00+00:00</th>\n",
       "      <td>NaN</td>\n",
       "      <td>4.067</td>\n",
       "      <td>37.706</td>\n",
       "      <td>69.861</td>\n",
       "    </tr>\n",
       "  </tbody>\n",
       "</table>\n",
       "</div>"
      ],
      "text/plain": [
       "                           IRBT   ISRG     JNJ     SHY\n",
       "2003-01-02 00:00:00+00:00   NaN  4.067  36.363  69.895\n",
       "2003-01-03 00:00:00+00:00   NaN  4.067  37.377  69.903\n",
       "2003-01-06 00:00:00+00:00   NaN  4.067  37.706  69.861"
      ]
     },
     "execution_count": 7,
     "metadata": {},
     "output_type": "execute_result"
    }
   ],
   "source": [
    "data[:'2003-1-6']"
   ]
  },
  {
   "cell_type": "code",
   "execution_count": null,
   "metadata": {},
   "outputs": [],
   "source": []
  },
  {
   "cell_type": "code",
   "execution_count": 8,
   "metadata": {},
   "outputs": [
    {
     "data": {
      "text/plain": [
       "90.572000000000003"
      ]
     },
     "execution_count": 8,
     "metadata": {},
     "output_type": "execute_result"
    }
   ],
   "source": [
    "## Question 2\n",
    "data.loc['2015-5-4','JNJ']"
   ]
  },
  {
   "cell_type": "code",
   "execution_count": null,
   "metadata": {},
   "outputs": [],
   "source": []
  },
  {
   "cell_type": "code",
   "execution_count": 9,
   "metadata": {},
   "outputs": [
    {
     "data": {
      "text/plain": [
       "2018-10-29 00:00:00+00:00    77.34\n",
       "2018-10-26 00:00:00+00:00    79.74\n",
       "2018-10-24 00:00:00+00:00    80.50\n",
       "2018-10-30 00:00:00+00:00    80.67\n",
       "2018-10-25 00:00:00+00:00    81.74\n",
       "Name: IRBT, dtype: float64"
      ]
     },
     "execution_count": 9,
     "metadata": {},
     "output_type": "execute_result"
    }
   ],
   "source": [
    "# Question 3\n",
    "data.loc['2018-10','IRBT'].nsmallest(5)"
   ]
  },
  {
   "cell_type": "code",
   "execution_count": 63,
   "metadata": {},
   "outputs": [
    {
     "data": {
      "text/plain": [
       "2007-07-20 00:00:00+00:00    0.323417\n",
       "2009-07-23 00:00:00+00:00    0.268222\n",
       "2005-07-27 00:00:00+00:00    0.263804\n",
       "2004-07-27 00:00:00+00:00    0.252381\n",
       "2005-10-26 00:00:00+00:00    0.251709\n",
       "Name: ISRG, dtype: float64"
      ]
     },
     "execution_count": 63,
     "metadata": {},
     "output_type": "execute_result"
    }
   ],
   "source": [
    "# Question 4\n",
    "r = data.pct_change()\n",
    "r.ISRG.nlargest(5)"
   ]
  },
  {
   "cell_type": "code",
   "execution_count": 11,
   "metadata": {},
   "outputs": [
    {
     "data": {
      "text/plain": [
       "2017-04-19 00:00:00+00:00    0.067356\n",
       "2017-01-25 00:00:00+00:00    0.050621\n",
       "2017-10-20 00:00:00+00:00    0.034515\n",
       "2017-01-10 00:00:00+00:00    0.033008\n",
       "2017-12-06 00:00:00+00:00    0.025954\n",
       "Name: ISRG, dtype: float64"
      ]
     },
     "execution_count": 11,
     "metadata": {},
     "output_type": "execute_result"
    }
   ],
   "source": [
    "# Question 5\n",
    "r.loc['2017', 'ISRG'].nlargest(5)"
   ]
  },
  {
   "cell_type": "code",
   "execution_count": 12,
   "metadata": {},
   "outputs": [
    {
     "data": {
      "text/plain": [
       "0.018196163375278344"
      ]
     },
     "execution_count": 12,
     "metadata": {},
     "output_type": "execute_result"
    }
   ],
   "source": [
    "# Question 6\n",
    "r[r.JNJ > 0.02].ISRG.mean()"
   ]
  },
  {
   "cell_type": "code",
   "execution_count": 13,
   "metadata": {},
   "outputs": [
    {
     "data": {
      "text/html": [
       "<div>\n",
       "<table border=\"1\" class=\"dataframe\">\n",
       "  <thead>\n",
       "    <tr style=\"text-align: right;\">\n",
       "      <th></th>\n",
       "      <th>IRBT</th>\n",
       "      <th>ISRG</th>\n",
       "      <th>JNJ</th>\n",
       "      <th>SHY</th>\n",
       "    </tr>\n",
       "  </thead>\n",
       "  <tbody>\n",
       "    <tr>\n",
       "      <th>2017-12-27 00:00:00+00:00</th>\n",
       "      <td>3.014501</td>\n",
       "      <td>90.508975</td>\n",
       "      <td>3.763413</td>\n",
       "      <td>1.178539</td>\n",
       "    </tr>\n",
       "    <tr>\n",
       "      <th>2017-12-28 00:00:00+00:00</th>\n",
       "      <td>2.974765</td>\n",
       "      <td>90.686009</td>\n",
       "      <td>3.761791</td>\n",
       "      <td>1.178611</td>\n",
       "    </tr>\n",
       "    <tr>\n",
       "      <th>2017-12-29 00:00:00+00:00</th>\n",
       "      <td>2.888889</td>\n",
       "      <td>89.741824</td>\n",
       "      <td>3.744411</td>\n",
       "      <td>1.179240</td>\n",
       "    </tr>\n",
       "  </tbody>\n",
       "</table>\n",
       "</div>"
      ],
      "text/plain": [
       "                               IRBT       ISRG       JNJ       SHY\n",
       "2017-12-27 00:00:00+00:00  3.014501  90.508975  3.763413  1.178539\n",
       "2017-12-28 00:00:00+00:00  2.974765  90.686009  3.761791  1.178611\n",
       "2017-12-29 00:00:00+00:00  2.888889  89.741824  3.744411  1.179240"
      ]
     },
     "execution_count": 13,
     "metadata": {},
     "output_type": "execute_result"
    }
   ],
   "source": [
    "# Questino 7\n",
    "r.add(1).cumprod().loc[:'2017'][-3:]"
   ]
  },
  {
   "cell_type": "code",
   "execution_count": 25,
   "metadata": {},
   "outputs": [
    {
     "data": {
      "text/plain": [
       "148.63818889104351"
      ]
     },
     "execution_count": 25,
     "metadata": {},
     "output_type": "execute_result"
    }
   ],
   "source": [
    "# Question 8\n",
    "q = r.loc['2014-12-31':'2018-10']\n",
    "q.add(1).cumprod().ISRG[-1]*50"
   ]
  },
  {
   "cell_type": "code",
   "execution_count": null,
   "metadata": {},
   "outputs": [],
   "source": []
  },
  {
   "cell_type": "code",
   "execution_count": 15,
   "metadata": {},
   "outputs": [],
   "source": [
    "# Question 9"
   ]
  },
  {
   "cell_type": "code",
   "execution_count": 16,
   "metadata": {},
   "outputs": [
    {
     "data": {
      "text/plain": [
       "29.183789621367239"
      ]
     },
     "execution_count": 16,
     "metadata": {},
     "output_type": "execute_result"
    }
   ],
   "source": [
    "r[['JNJ','ISRG']].mean(axis=1).add(1).cumprod()[-1]"
   ]
  },
  {
   "cell_type": "code",
   "execution_count": null,
   "metadata": {},
   "outputs": [],
   "source": []
  },
  {
   "cell_type": "code",
   "execution_count": 27,
   "metadata": {},
   "outputs": [
    {
     "data": {
      "text/html": [
       "<div>\n",
       "<table border=\"1\" class=\"dataframe\">\n",
       "  <thead>\n",
       "    <tr style=\"text-align: right;\">\n",
       "      <th></th>\n",
       "      <th>IRBT</th>\n",
       "      <th>ISRG</th>\n",
       "      <th>JNJ</th>\n",
       "      <th>SHY</th>\n",
       "    </tr>\n",
       "  </thead>\n",
       "  <tbody>\n",
       "    <tr>\n",
       "      <th>2006-02-15 00:00:00+00:00</th>\n",
       "      <td>-0.227108</td>\n",
       "      <td>-0.000704</td>\n",
       "      <td>0.001021</td>\n",
       "      <td>-0.000124</td>\n",
       "    </tr>\n",
       "    <tr>\n",
       "      <th>2007-09-17 00:00:00+00:00</th>\n",
       "      <td>-0.227832</td>\n",
       "      <td>-0.007192</td>\n",
       "      <td>-0.004435</td>\n",
       "      <td>-0.000244</td>\n",
       "    </tr>\n",
       "    <tr>\n",
       "      <th>2012-02-09 00:00:00+00:00</th>\n",
       "      <td>-0.343342</td>\n",
       "      <td>0.000445</td>\n",
       "      <td>-0.005211</td>\n",
       "      <td>-0.000360</td>\n",
       "    </tr>\n",
       "    <tr>\n",
       "      <th>2018-02-08 00:00:00+00:00</th>\n",
       "      <td>-0.320968</td>\n",
       "      <td>-0.044586</td>\n",
       "      <td>-0.038499</td>\n",
       "      <td>0.000243</td>\n",
       "    </tr>\n",
       "  </tbody>\n",
       "</table>\n",
       "</div>"
      ],
      "text/plain": [
       "                               IRBT      ISRG       JNJ       SHY\n",
       "2006-02-15 00:00:00+00:00 -0.227108 -0.000704  0.001021 -0.000124\n",
       "2007-09-17 00:00:00+00:00 -0.227832 -0.007192 -0.004435 -0.000244\n",
       "2012-02-09 00:00:00+00:00 -0.343342  0.000445 -0.005211 -0.000360\n",
       "2018-02-08 00:00:00+00:00 -0.320968 -0.044586 -0.038499  0.000243"
      ]
     },
     "execution_count": 27,
     "metadata": {},
     "output_type": "execute_result"
    }
   ],
   "source": [
    "# Question 10\n",
    "r[r.IRBT < -0.2]"
   ]
  },
  {
   "cell_type": "code",
   "execution_count": null,
   "metadata": {},
   "outputs": [],
   "source": []
  },
  {
   "cell_type": "code",
   "execution_count": 22,
   "metadata": {},
   "outputs": [
    {
     "data": {
      "text/plain": [
       "2009-02-28 00:00:00+00:00   -0.125377\n",
       "2018-12-31 00:00:00+00:00   -0.119517\n",
       "2008-10-31 00:00:00+00:00   -0.110273\n",
       "2010-05-31 00:00:00+00:00   -0.085337\n",
       "2013-08-31 00:00:00+00:00   -0.069604\n",
       "Name: JNJ, dtype: float64"
      ]
     },
     "execution_count": 22,
     "metadata": {},
     "output_type": "execute_result"
    }
   ],
   "source": [
    "# Question 11\n",
    "r.add(1).resample('M').agg('prod').sub(1).JNJ.nsmallest()"
   ]
  },
  {
   "cell_type": "code",
   "execution_count": null,
   "metadata": {},
   "outputs": [],
   "source": []
  },
  {
   "cell_type": "code",
   "execution_count": 87,
   "metadata": {},
   "outputs": [
    {
     "data": {
      "text/plain": [
       "1510"
      ]
     },
     "execution_count": 87,
     "metadata": {},
     "output_type": "execute_result"
    }
   ],
   "source": [
    "# Question 12\n",
    "q = r[['IRBT']].loc['2010':'2015']\n",
    "len(q)"
   ]
  },
  {
   "cell_type": "code",
   "execution_count": 92,
   "metadata": {},
   "outputs": [
    {
     "name": "stdout",
     "output_type": "stream",
     "text": [
      "160\n",
      "107\n"
     ]
    }
   ],
   "source": [
    "print(len(q[q.IRBT < -0.03]))\n",
    "print(len(q[q.IRBT < -0.035]))"
   ]
  },
  {
   "cell_type": "code",
   "execution_count": null,
   "metadata": {},
   "outputs": [],
   "source": []
  },
  {
   "cell_type": "code",
   "execution_count": 98,
   "metadata": {},
   "outputs": [],
   "source": [
    "# Question 13\n",
    "r_monthly = r.add(1).resample('M').agg('prod').sub(1)\n",
    "rx_monthly = r_monthly.sub(r_monthly.SHY, axis = 0)"
   ]
  },
  {
   "cell_type": "code",
   "execution_count": 99,
   "metadata": {},
   "outputs": [
    {
     "data": {
      "text/plain": [
       "IRBT    0.470116\n",
       "ISRG    0.474716\n",
       "JNJ     0.138653\n",
       "SHY     0.000000\n",
       "dtype: float64"
      ]
     },
     "execution_count": 99,
     "metadata": {},
     "output_type": "execute_result"
    }
   ],
   "source": [
    "rx_monthly.std() * 12**0.5"
   ]
  },
  {
   "cell_type": "code",
   "execution_count": null,
   "metadata": {},
   "outputs": [],
   "source": []
  },
  {
   "cell_type": "code",
   "execution_count": 109,
   "metadata": {},
   "outputs": [
    {
     "data": {
      "text/plain": [
       "IRBT    0.736219\n",
       "ISRG    0.749219\n",
       "JNJ     0.302038\n",
       "SHY     0.000000\n",
       "dtype: float64"
      ]
     },
     "execution_count": 109,
     "metadata": {},
     "output_type": "execute_result"
    }
   ],
   "source": [
    "# Question 14\n",
    "r_daily   = r.loc['2008']\n",
    "rx_daily = r_daily.sub(r_daily.SHY, axis = 0)\n",
    "rx_daily.std() * 252**0.5"
   ]
  },
  {
   "cell_type": "code",
   "execution_count": null,
   "metadata": {},
   "outputs": [],
   "source": []
  },
  {
   "cell_type": "code",
   "execution_count": 110,
   "metadata": {},
   "outputs": [
    {
     "data": {
      "text/plain": [
       "IRBT    0.161662\n",
       "ISRG    0.535063\n",
       "JNJ     0.077564\n",
       "SHY     0.000000\n",
       "dtype: float64"
      ]
     },
     "execution_count": 110,
     "metadata": {},
     "output_type": "execute_result"
    }
   ],
   "source": [
    "# Question 15\n",
    "r_annual  = r.add(1).resample('A').agg('prod').sub(1)\n",
    "rx_annual = r_annual.sub(r_annual.SHY, axis = 0)\n",
    "rx_annual.mean()"
   ]
  },
  {
   "cell_type": "code",
   "execution_count": 111,
   "metadata": {},
   "outputs": [
    {
     "data": {
      "text/html": [
       "<div>\n",
       "<table border=\"1\" class=\"dataframe\">\n",
       "  <thead>\n",
       "    <tr style=\"text-align: right;\">\n",
       "      <th></th>\n",
       "      <th>mean_ret</th>\n",
       "      <th>vol</th>\n",
       "      <th>Sharpe</th>\n",
       "    </tr>\n",
       "  </thead>\n",
       "  <tbody>\n",
       "    <tr>\n",
       "      <th>IRBT</th>\n",
       "      <td>0.161662</td>\n",
       "      <td>0.470116</td>\n",
       "      <td>0.343877</td>\n",
       "    </tr>\n",
       "    <tr>\n",
       "      <th>ISRG</th>\n",
       "      <td>0.535063</td>\n",
       "      <td>0.474716</td>\n",
       "      <td>1.127123</td>\n",
       "    </tr>\n",
       "    <tr>\n",
       "      <th>JNJ</th>\n",
       "      <td>0.077564</td>\n",
       "      <td>0.138653</td>\n",
       "      <td>0.559412</td>\n",
       "    </tr>\n",
       "    <tr>\n",
       "      <th>SHY</th>\n",
       "      <td>0.000000</td>\n",
       "      <td>0.000000</td>\n",
       "      <td>NaN</td>\n",
       "    </tr>\n",
       "  </tbody>\n",
       "</table>\n",
       "</div>"
      ],
      "text/plain": [
       "      mean_ret       vol    Sharpe\n",
       "IRBT  0.161662  0.470116  0.343877\n",
       "ISRG  0.535063  0.474716  1.127123\n",
       "JNJ   0.077564  0.138653  0.559412\n",
       "SHY   0.000000  0.000000       NaN"
      ]
     },
     "execution_count": 111,
     "metadata": {},
     "output_type": "execute_result"
    }
   ],
   "source": [
    "t = pd.DataFrame()\n",
    "t['mean_ret'] = rx_annual.mean()\n",
    "t['vol']      = rx_monthly.std() * 12**0.5\n",
    "t['Sharpe']   = t.mean_ret/t.vol\n",
    "t"
   ]
  },
  {
   "cell_type": "code",
   "execution_count": null,
   "metadata": {},
   "outputs": [],
   "source": []
  },
  {
   "cell_type": "code",
   "execution_count": 116,
   "metadata": {},
   "outputs": [
    {
     "data": {
      "text/plain": [
       "IRBT    0.975656\n",
       "ISRG    2.136902\n",
       "JNJ     0.775630\n",
       "SHY     0.000000\n",
       "dtype: float64"
      ]
     },
     "execution_count": 116,
     "metadata": {},
     "output_type": "execute_result"
    }
   ],
   "source": [
    "# Question 16\n",
    "t.sum(axis=1)"
   ]
  },
  {
   "cell_type": "code",
   "execution_count": null,
   "metadata": {},
   "outputs": [],
   "source": []
  },
  {
   "cell_type": "code",
   "execution_count": 118,
   "metadata": {},
   "outputs": [
    {
     "data": {
      "text/html": [
       "<div>\n",
       "<table border=\"1\" class=\"dataframe\">\n",
       "  <thead>\n",
       "    <tr style=\"text-align: right;\">\n",
       "      <th></th>\n",
       "      <th>IRBT</th>\n",
       "      <th>ISRG</th>\n",
       "      <th>JNJ</th>\n",
       "      <th>SHY</th>\n",
       "    </tr>\n",
       "  </thead>\n",
       "  <tbody>\n",
       "    <tr>\n",
       "      <th>2003-01-02 00:00:00+00:00</th>\n",
       "      <td>NaN</td>\n",
       "      <td>NaN</td>\n",
       "      <td>NaN</td>\n",
       "      <td>NaN</td>\n",
       "    </tr>\n",
       "    <tr>\n",
       "      <th>2003-01-03 00:00:00+00:00</th>\n",
       "      <td>NaN</td>\n",
       "      <td>0.000000</td>\n",
       "      <td>0.027885</td>\n",
       "      <td>0.000114</td>\n",
       "    </tr>\n",
       "    <tr>\n",
       "      <th>2003-01-06 00:00:00+00:00</th>\n",
       "      <td>NaN</td>\n",
       "      <td>0.000000</td>\n",
       "      <td>0.008802</td>\n",
       "      <td>-0.000601</td>\n",
       "    </tr>\n",
       "    <tr>\n",
       "      <th>2003-01-07 00:00:00+00:00</th>\n",
       "      <td>NaN</td>\n",
       "      <td>-0.023113</td>\n",
       "      <td>-0.022861</td>\n",
       "      <td>0.000730</td>\n",
       "    </tr>\n",
       "    <tr>\n",
       "      <th>2003-01-08 00:00:00+00:00</th>\n",
       "      <td>NaN</td>\n",
       "      <td>-0.028442</td>\n",
       "      <td>-0.004831</td>\n",
       "      <td>0.000844</td>\n",
       "    </tr>\n",
       "  </tbody>\n",
       "</table>\n",
       "</div>"
      ],
      "text/plain": [
       "                           IRBT      ISRG       JNJ       SHY\n",
       "2003-01-02 00:00:00+00:00   NaN       NaN       NaN       NaN\n",
       "2003-01-03 00:00:00+00:00   NaN  0.000000  0.027885  0.000114\n",
       "2003-01-06 00:00:00+00:00   NaN  0.000000  0.008802 -0.000601\n",
       "2003-01-07 00:00:00+00:00   NaN -0.023113 -0.022861  0.000730\n",
       "2003-01-08 00:00:00+00:00   NaN -0.028442 -0.004831  0.000844"
      ]
     },
     "execution_count": 118,
     "metadata": {},
     "output_type": "execute_result"
    }
   ],
   "source": [
    "# Question 17\n",
    "r[:5]"
   ]
  },
  {
   "cell_type": "code",
   "execution_count": 64,
   "metadata": {},
   "outputs": [],
   "source": [
    "r['PF'] = np.where(r.shift().JNJ > 0, r.SHY, r.JNJ)"
   ]
  },
  {
   "cell_type": "code",
   "execution_count": 65,
   "metadata": {},
   "outputs": [
    {
     "data": {
      "text/html": [
       "<div>\n",
       "<table border=\"1\" class=\"dataframe\">\n",
       "  <thead>\n",
       "    <tr style=\"text-align: right;\">\n",
       "      <th></th>\n",
       "      <th>IRBT</th>\n",
       "      <th>ISRG</th>\n",
       "      <th>JNJ</th>\n",
       "      <th>SHY</th>\n",
       "      <th>PF</th>\n",
       "    </tr>\n",
       "  </thead>\n",
       "  <tbody>\n",
       "    <tr>\n",
       "      <th>2003-01-02 00:00:00+00:00</th>\n",
       "      <td>NaN</td>\n",
       "      <td>NaN</td>\n",
       "      <td>NaN</td>\n",
       "      <td>NaN</td>\n",
       "      <td>NaN</td>\n",
       "    </tr>\n",
       "    <tr>\n",
       "      <th>2003-01-03 00:00:00+00:00</th>\n",
       "      <td>NaN</td>\n",
       "      <td>0.000000</td>\n",
       "      <td>0.027885</td>\n",
       "      <td>0.000114</td>\n",
       "      <td>0.027885</td>\n",
       "    </tr>\n",
       "    <tr>\n",
       "      <th>2003-01-06 00:00:00+00:00</th>\n",
       "      <td>NaN</td>\n",
       "      <td>0.000000</td>\n",
       "      <td>0.008802</td>\n",
       "      <td>-0.000601</td>\n",
       "      <td>-0.000601</td>\n",
       "    </tr>\n",
       "    <tr>\n",
       "      <th>2003-01-07 00:00:00+00:00</th>\n",
       "      <td>NaN</td>\n",
       "      <td>-0.023113</td>\n",
       "      <td>-0.022861</td>\n",
       "      <td>0.000730</td>\n",
       "      <td>0.000730</td>\n",
       "    </tr>\n",
       "    <tr>\n",
       "      <th>2003-01-08 00:00:00+00:00</th>\n",
       "      <td>NaN</td>\n",
       "      <td>-0.028442</td>\n",
       "      <td>-0.004831</td>\n",
       "      <td>0.000844</td>\n",
       "      <td>-0.004831</td>\n",
       "    </tr>\n",
       "    <tr>\n",
       "      <th>2003-01-09 00:00:00+00:00</th>\n",
       "      <td>NaN</td>\n",
       "      <td>0.010363</td>\n",
       "      <td>0.020291</td>\n",
       "      <td>-0.001815</td>\n",
       "      <td>0.020291</td>\n",
       "    </tr>\n",
       "    <tr>\n",
       "      <th>2003-01-10 00:00:00+00:00</th>\n",
       "      <td>NaN</td>\n",
       "      <td>0.028974</td>\n",
       "      <td>0.005640</td>\n",
       "      <td>0.000974</td>\n",
       "      <td>0.000974</td>\n",
       "    </tr>\n",
       "    <tr>\n",
       "      <th>2003-01-13 00:00:00+00:00</th>\n",
       "      <td>NaN</td>\n",
       "      <td>-0.029903</td>\n",
       "      <td>-0.020122</td>\n",
       "      <td>0.000114</td>\n",
       "      <td>0.000114</td>\n",
       "    </tr>\n",
       "    <tr>\n",
       "      <th>2003-01-14 00:00:00+00:00</th>\n",
       "      <td>NaN</td>\n",
       "      <td>0.022348</td>\n",
       "      <td>0.007487</td>\n",
       "      <td>0.000372</td>\n",
       "      <td>0.007487</td>\n",
       "    </tr>\n",
       "    <tr>\n",
       "      <th>2003-01-15 00:00:00+00:00</th>\n",
       "      <td>NaN</td>\n",
       "      <td>-0.030151</td>\n",
       "      <td>-0.024798</td>\n",
       "      <td>0.000729</td>\n",
       "      <td>0.000729</td>\n",
       "    </tr>\n",
       "    <tr>\n",
       "      <th>2003-01-16 00:00:00+00:00</th>\n",
       "      <td>NaN</td>\n",
       "      <td>0.117358</td>\n",
       "      <td>-0.005826</td>\n",
       "      <td>0.000243</td>\n",
       "      <td>-0.005826</td>\n",
       "    </tr>\n",
       "    <tr>\n",
       "      <th>2003-01-17 00:00:00+00:00</th>\n",
       "      <td>NaN</td>\n",
       "      <td>0.004637</td>\n",
       "      <td>0.001472</td>\n",
       "      <td>-0.000243</td>\n",
       "      <td>0.001472</td>\n",
       "    </tr>\n",
       "    <tr>\n",
       "      <th>2003-01-21 00:00:00+00:00</th>\n",
       "      <td>NaN</td>\n",
       "      <td>0.033926</td>\n",
       "      <td>-0.014781</td>\n",
       "      <td>0.001214</td>\n",
       "      <td>0.001214</td>\n",
       "    </tr>\n",
       "    <tr>\n",
       "      <th>2003-01-22 00:00:00+00:00</th>\n",
       "      <td>NaN</td>\n",
       "      <td>-0.025223</td>\n",
       "      <td>-0.001689</td>\n",
       "      <td>0.000728</td>\n",
       "      <td>-0.001689</td>\n",
       "    </tr>\n",
       "    <tr>\n",
       "      <th>2003-01-23 00:00:00+00:00</th>\n",
       "      <td>NaN</td>\n",
       "      <td>0.030456</td>\n",
       "      <td>0.017086</td>\n",
       "      <td>-0.000599</td>\n",
       "      <td>0.017086</td>\n",
       "    </tr>\n",
       "    <tr>\n",
       "      <th>2003-01-24 00:00:00+00:00</th>\n",
       "      <td>NaN</td>\n",
       "      <td>-0.022222</td>\n",
       "      <td>-0.023369</td>\n",
       "      <td>-0.000128</td>\n",
       "      <td>-0.000128</td>\n",
       "    </tr>\n",
       "    <tr>\n",
       "      <th>2003-01-27 00:00:00+00:00</th>\n",
       "      <td>NaN</td>\n",
       "      <td>-0.075682</td>\n",
       "      <td>-0.026709</td>\n",
       "      <td>0.000000</td>\n",
       "      <td>-0.026709</td>\n",
       "    </tr>\n",
       "    <tr>\n",
       "      <th>2003-01-28 00:00:00+00:00</th>\n",
       "      <td>NaN</td>\n",
       "      <td>0.004918</td>\n",
       "      <td>0.017294</td>\n",
       "      <td>0.000243</td>\n",
       "      <td>0.017294</td>\n",
       "    </tr>\n",
       "    <tr>\n",
       "      <th>2003-01-29 00:00:00+00:00</th>\n",
       "      <td>NaN</td>\n",
       "      <td>-0.003425</td>\n",
       "      <td>-0.010578</td>\n",
       "      <td>-0.000842</td>\n",
       "      <td>-0.000842</td>\n",
       "    </tr>\n",
       "    <tr>\n",
       "      <th>2003-01-30 00:00:00+00:00</th>\n",
       "      <td>NaN</td>\n",
       "      <td>0.055978</td>\n",
       "      <td>-0.016979</td>\n",
       "      <td>0.001214</td>\n",
       "      <td>-0.016979</td>\n",
       "    </tr>\n",
       "    <tr>\n",
       "      <th>2003-01-31 00:00:00+00:00</th>\n",
       "      <td>NaN</td>\n",
       "      <td>-0.006510</td>\n",
       "      <td>0.040733</td>\n",
       "      <td>-0.000242</td>\n",
       "      <td>0.040733</td>\n",
       "    </tr>\n",
       "    <tr>\n",
       "      <th>2003-02-03 00:00:00+00:00</th>\n",
       "      <td>NaN</td>\n",
       "      <td>-0.093611</td>\n",
       "      <td>-0.006514</td>\n",
       "      <td>-0.000585</td>\n",
       "      <td>-0.000585</td>\n",
       "    </tr>\n",
       "    <tr>\n",
       "      <th>2003-02-04 00:00:00+00:00</th>\n",
       "      <td>NaN</td>\n",
       "      <td>0.032791</td>\n",
       "      <td>-0.010319</td>\n",
       "      <td>0.000970</td>\n",
       "      <td>-0.010319</td>\n",
       "    </tr>\n",
       "    <tr>\n",
       "      <th>2003-02-05 00:00:00+00:00</th>\n",
       "      <td>NaN</td>\n",
       "      <td>-0.021750</td>\n",
       "      <td>-0.011953</td>\n",
       "      <td>-0.000242</td>\n",
       "      <td>-0.011953</td>\n",
       "    </tr>\n",
       "    <tr>\n",
       "      <th>2003-02-06 00:00:00+00:00</th>\n",
       "      <td>NaN</td>\n",
       "      <td>-0.011756</td>\n",
       "      <td>0.000787</td>\n",
       "      <td>0.000485</td>\n",
       "      <td>0.000787</td>\n",
       "    </tr>\n",
       "    <tr>\n",
       "      <th>2003-02-07 00:00:00+00:00</th>\n",
       "      <td>NaN</td>\n",
       "      <td>0.013706</td>\n",
       "      <td>-0.005942</td>\n",
       "      <td>0.000855</td>\n",
       "      <td>0.000855</td>\n",
       "    </tr>\n",
       "    <tr>\n",
       "      <th>2003-02-10 00:00:00+00:00</th>\n",
       "      <td>NaN</td>\n",
       "      <td>0.020408</td>\n",
       "      <td>0.004806</td>\n",
       "      <td>-0.000983</td>\n",
       "      <td>0.004806</td>\n",
       "    </tr>\n",
       "    <tr>\n",
       "      <th>2003-02-11 00:00:00+00:00</th>\n",
       "      <td>NaN</td>\n",
       "      <td>-0.110000</td>\n",
       "      <td>-0.000758</td>\n",
       "      <td>0.000613</td>\n",
       "      <td>0.000613</td>\n",
       "    </tr>\n",
       "    <tr>\n",
       "      <th>2003-02-12 00:00:00+00:00</th>\n",
       "      <td>NaN</td>\n",
       "      <td>-0.101124</td>\n",
       "      <td>-0.039196</td>\n",
       "      <td>0.000855</td>\n",
       "      <td>-0.039196</td>\n",
       "    </tr>\n",
       "    <tr>\n",
       "      <th>2003-02-13 00:00:00+00:00</th>\n",
       "      <td>NaN</td>\n",
       "      <td>-0.031250</td>\n",
       "      <td>0.029829</td>\n",
       "      <td>0.000854</td>\n",
       "      <td>0.029829</td>\n",
       "    </tr>\n",
       "    <tr>\n",
       "      <th>...</th>\n",
       "      <td>...</td>\n",
       "      <td>...</td>\n",
       "      <td>...</td>\n",
       "      <td>...</td>\n",
       "      <td>...</td>\n",
       "    </tr>\n",
       "    <tr>\n",
       "      <th>2018-11-15 00:00:00+00:00</th>\n",
       "      <td>0.011240</td>\n",
       "      <td>0.030061</td>\n",
       "      <td>0.001318</td>\n",
       "      <td>0.000350</td>\n",
       "      <td>0.001318</td>\n",
       "    </tr>\n",
       "    <tr>\n",
       "      <th>2018-11-16 00:00:00+00:00</th>\n",
       "      <td>0.031900</td>\n",
       "      <td>0.009540</td>\n",
       "      <td>0.010725</td>\n",
       "      <td>0.000845</td>\n",
       "      <td>0.000845</td>\n",
       "    </tr>\n",
       "    <tr>\n",
       "      <th>2018-11-19 00:00:00+00:00</th>\n",
       "      <td>-0.042816</td>\n",
       "      <td>-0.069426</td>\n",
       "      <td>0.012121</td>\n",
       "      <td>0.000724</td>\n",
       "      <td>0.000724</td>\n",
       "    </tr>\n",
       "    <tr>\n",
       "      <th>2018-11-20 00:00:00+00:00</th>\n",
       "      <td>-0.004783</td>\n",
       "      <td>0.005616</td>\n",
       "      <td>-0.009402</td>\n",
       "      <td>-0.000241</td>\n",
       "      <td>-0.000241</td>\n",
       "    </tr>\n",
       "    <tr>\n",
       "      <th>2018-11-21 00:00:00+00:00</th>\n",
       "      <td>0.020579</td>\n",
       "      <td>0.013375</td>\n",
       "      <td>-0.030391</td>\n",
       "      <td>0.000000</td>\n",
       "      <td>-0.030391</td>\n",
       "    </tr>\n",
       "    <tr>\n",
       "      <th>2018-11-23 00:00:00+00:00</th>\n",
       "      <td>0.018945</td>\n",
       "      <td>-0.004454</td>\n",
       "      <td>0.002325</td>\n",
       "      <td>0.000121</td>\n",
       "      <td>0.002325</td>\n",
       "    </tr>\n",
       "    <tr>\n",
       "      <th>2018-11-26 00:00:00+00:00</th>\n",
       "      <td>0.011199</td>\n",
       "      <td>0.027924</td>\n",
       "      <td>-0.000636</td>\n",
       "      <td>-0.000241</td>\n",
       "      <td>-0.000241</td>\n",
       "    </tr>\n",
       "    <tr>\n",
       "      <th>2018-11-27 00:00:00+00:00</th>\n",
       "      <td>-0.060753</td>\n",
       "      <td>-0.012440</td>\n",
       "      <td>0.013728</td>\n",
       "      <td>0.000060</td>\n",
       "      <td>0.013728</td>\n",
       "    </tr>\n",
       "    <tr>\n",
       "      <th>2018-11-28 00:00:00+00:00</th>\n",
       "      <td>0.053234</td>\n",
       "      <td>0.050809</td>\n",
       "      <td>0.022616</td>\n",
       "      <td>0.000410</td>\n",
       "      <td>0.000410</td>\n",
       "    </tr>\n",
       "    <tr>\n",
       "      <th>2018-11-29 00:00:00+00:00</th>\n",
       "      <td>0.020326</td>\n",
       "      <td>-0.002317</td>\n",
       "      <td>-0.004437</td>\n",
       "      <td>0.000362</td>\n",
       "      <td>0.000362</td>\n",
       "    </tr>\n",
       "    <tr>\n",
       "      <th>2018-11-30 00:00:00+00:00</th>\n",
       "      <td>0.017258</td>\n",
       "      <td>0.018081</td>\n",
       "      <td>0.005074</td>\n",
       "      <td>0.000121</td>\n",
       "      <td>0.005074</td>\n",
       "    </tr>\n",
       "    <tr>\n",
       "      <th>2018-12-03 00:00:00+00:00</th>\n",
       "      <td>0.057179</td>\n",
       "      <td>0.034765</td>\n",
       "      <td>-0.002354</td>\n",
       "      <td>-0.000566</td>\n",
       "      <td>-0.000566</td>\n",
       "    </tr>\n",
       "    <tr>\n",
       "      <th>2018-12-04 00:00:00+00:00</th>\n",
       "      <td>-0.067855</td>\n",
       "      <td>-0.054586</td>\n",
       "      <td>-0.000650</td>\n",
       "      <td>0.000723</td>\n",
       "      <td>-0.000650</td>\n",
       "    </tr>\n",
       "    <tr>\n",
       "      <th>2018-12-06 00:00:00+00:00</th>\n",
       "      <td>-0.025611</td>\n",
       "      <td>0.000270</td>\n",
       "      <td>-0.001642</td>\n",
       "      <td>0.000843</td>\n",
       "      <td>-0.001642</td>\n",
       "    </tr>\n",
       "    <tr>\n",
       "      <th>2018-12-07 00:00:00+00:00</th>\n",
       "      <td>-0.009161</td>\n",
       "      <td>-0.053426</td>\n",
       "      <td>-0.003632</td>\n",
       "      <td>0.001071</td>\n",
       "      <td>-0.003632</td>\n",
       "    </tr>\n",
       "    <tr>\n",
       "      <th>2018-12-10 00:00:00+00:00</th>\n",
       "      <td>0.002312</td>\n",
       "      <td>0.013841</td>\n",
       "      <td>-0.000688</td>\n",
       "      <td>0.000000</td>\n",
       "      <td>-0.000688</td>\n",
       "    </tr>\n",
       "    <tr>\n",
       "      <th>2018-12-11 00:00:00+00:00</th>\n",
       "      <td>-0.028882</td>\n",
       "      <td>0.019996</td>\n",
       "      <td>0.008535</td>\n",
       "      <td>-0.000830</td>\n",
       "      <td>0.008535</td>\n",
       "    </tr>\n",
       "    <tr>\n",
       "      <th>2018-12-12 00:00:00+00:00</th>\n",
       "      <td>0.033812</td>\n",
       "      <td>0.015077</td>\n",
       "      <td>0.004573</td>\n",
       "      <td>-0.000120</td>\n",
       "      <td>-0.000120</td>\n",
       "    </tr>\n",
       "    <tr>\n",
       "      <th>2018-12-13 00:00:00+00:00</th>\n",
       "      <td>-0.041566</td>\n",
       "      <td>-0.007252</td>\n",
       "      <td>0.004076</td>\n",
       "      <td>0.000770</td>\n",
       "      <td>0.000770</td>\n",
       "    </tr>\n",
       "    <tr>\n",
       "      <th>2018-12-14 00:00:00+00:00</th>\n",
       "      <td>-0.013924</td>\n",
       "      <td>-0.039434</td>\n",
       "      <td>-0.101428</td>\n",
       "      <td>0.000662</td>\n",
       "      <td>0.000662</td>\n",
       "    </tr>\n",
       "    <tr>\n",
       "      <th>2018-12-17 00:00:00+00:00</th>\n",
       "      <td>-0.045139</td>\n",
       "      <td>-0.020069</td>\n",
       "      <td>-0.027636</td>\n",
       "      <td>0.000962</td>\n",
       "      <td>-0.027636</td>\n",
       "    </tr>\n",
       "    <tr>\n",
       "      <th>2018-12-18 00:00:00+00:00</th>\n",
       "      <td>-0.007030</td>\n",
       "      <td>0.000892</td>\n",
       "      <td>0.009912</td>\n",
       "      <td>0.000588</td>\n",
       "      <td>0.009912</td>\n",
       "    </tr>\n",
       "    <tr>\n",
       "      <th>2018-12-19 00:00:00+00:00</th>\n",
       "      <td>-0.008301</td>\n",
       "      <td>-0.021644</td>\n",
       "      <td>-0.021624</td>\n",
       "      <td>0.000120</td>\n",
       "      <td>0.000120</td>\n",
       "    </tr>\n",
       "    <tr>\n",
       "      <th>2018-12-20 00:00:00+00:00</th>\n",
       "      <td>-0.020310</td>\n",
       "      <td>-0.025534</td>\n",
       "      <td>0.004781</td>\n",
       "      <td>-0.000120</td>\n",
       "      <td>0.004781</td>\n",
       "    </tr>\n",
       "    <tr>\n",
       "      <th>2018-12-21 00:00:00+00:00</th>\n",
       "      <td>-0.050760</td>\n",
       "      <td>-0.031074</td>\n",
       "      <td>-0.001014</td>\n",
       "      <td>0.000720</td>\n",
       "      <td>0.000720</td>\n",
       "    </tr>\n",
       "    <tr>\n",
       "      <th>2018-12-24 00:00:00+00:00</th>\n",
       "      <td>0.005692</td>\n",
       "      <td>-0.024709</td>\n",
       "      <td>-0.039197</td>\n",
       "      <td>0.000840</td>\n",
       "      <td>-0.039197</td>\n",
       "    </tr>\n",
       "    <tr>\n",
       "      <th>2018-12-26 00:00:00+00:00</th>\n",
       "      <td>0.074888</td>\n",
       "      <td>0.064040</td>\n",
       "      <td>0.029338</td>\n",
       "      <td>-0.000479</td>\n",
       "      <td>0.029338</td>\n",
       "    </tr>\n",
       "    <tr>\n",
       "      <th>2018-12-27 00:00:00+00:00</th>\n",
       "      <td>0.011755</td>\n",
       "      <td>0.013927</td>\n",
       "      <td>0.005527</td>\n",
       "      <td>0.000839</td>\n",
       "      <td>0.000839</td>\n",
       "    </tr>\n",
       "    <tr>\n",
       "      <th>2018-12-28 00:00:00+00:00</th>\n",
       "      <td>-0.015854</td>\n",
       "      <td>0.005546</td>\n",
       "      <td>-0.000864</td>\n",
       "      <td>0.001078</td>\n",
       "      <td>0.001078</td>\n",
       "    </tr>\n",
       "    <tr>\n",
       "      <th>2018-12-31 00:00:00+00:00</th>\n",
       "      <td>0.029759</td>\n",
       "      <td>0.016524</td>\n",
       "      <td>0.014303</td>\n",
       "      <td>0.000598</td>\n",
       "      <td>0.014303</td>\n",
       "    </tr>\n",
       "  </tbody>\n",
       "</table>\n",
       "<p>4027 rows × 5 columns</p>\n",
       "</div>"
      ],
      "text/plain": [
       "                               IRBT      ISRG       JNJ       SHY        PF\n",
       "2003-01-02 00:00:00+00:00       NaN       NaN       NaN       NaN       NaN\n",
       "2003-01-03 00:00:00+00:00       NaN  0.000000  0.027885  0.000114  0.027885\n",
       "2003-01-06 00:00:00+00:00       NaN  0.000000  0.008802 -0.000601 -0.000601\n",
       "2003-01-07 00:00:00+00:00       NaN -0.023113 -0.022861  0.000730  0.000730\n",
       "2003-01-08 00:00:00+00:00       NaN -0.028442 -0.004831  0.000844 -0.004831\n",
       "2003-01-09 00:00:00+00:00       NaN  0.010363  0.020291 -0.001815  0.020291\n",
       "2003-01-10 00:00:00+00:00       NaN  0.028974  0.005640  0.000974  0.000974\n",
       "2003-01-13 00:00:00+00:00       NaN -0.029903 -0.020122  0.000114  0.000114\n",
       "2003-01-14 00:00:00+00:00       NaN  0.022348  0.007487  0.000372  0.007487\n",
       "2003-01-15 00:00:00+00:00       NaN -0.030151 -0.024798  0.000729  0.000729\n",
       "2003-01-16 00:00:00+00:00       NaN  0.117358 -0.005826  0.000243 -0.005826\n",
       "2003-01-17 00:00:00+00:00       NaN  0.004637  0.001472 -0.000243  0.001472\n",
       "2003-01-21 00:00:00+00:00       NaN  0.033926 -0.014781  0.001214  0.001214\n",
       "2003-01-22 00:00:00+00:00       NaN -0.025223 -0.001689  0.000728 -0.001689\n",
       "2003-01-23 00:00:00+00:00       NaN  0.030456  0.017086 -0.000599  0.017086\n",
       "2003-01-24 00:00:00+00:00       NaN -0.022222 -0.023369 -0.000128 -0.000128\n",
       "2003-01-27 00:00:00+00:00       NaN -0.075682 -0.026709  0.000000 -0.026709\n",
       "2003-01-28 00:00:00+00:00       NaN  0.004918  0.017294  0.000243  0.017294\n",
       "2003-01-29 00:00:00+00:00       NaN -0.003425 -0.010578 -0.000842 -0.000842\n",
       "2003-01-30 00:00:00+00:00       NaN  0.055978 -0.016979  0.001214 -0.016979\n",
       "2003-01-31 00:00:00+00:00       NaN -0.006510  0.040733 -0.000242  0.040733\n",
       "2003-02-03 00:00:00+00:00       NaN -0.093611 -0.006514 -0.000585 -0.000585\n",
       "2003-02-04 00:00:00+00:00       NaN  0.032791 -0.010319  0.000970 -0.010319\n",
       "2003-02-05 00:00:00+00:00       NaN -0.021750 -0.011953 -0.000242 -0.011953\n",
       "2003-02-06 00:00:00+00:00       NaN -0.011756  0.000787  0.000485  0.000787\n",
       "2003-02-07 00:00:00+00:00       NaN  0.013706 -0.005942  0.000855  0.000855\n",
       "2003-02-10 00:00:00+00:00       NaN  0.020408  0.004806 -0.000983  0.004806\n",
       "2003-02-11 00:00:00+00:00       NaN -0.110000 -0.000758  0.000613  0.000613\n",
       "2003-02-12 00:00:00+00:00       NaN -0.101124 -0.039196  0.000855 -0.039196\n",
       "2003-02-13 00:00:00+00:00       NaN -0.031250  0.029829  0.000854  0.029829\n",
       "...                             ...       ...       ...       ...       ...\n",
       "2018-11-15 00:00:00+00:00  0.011240  0.030061  0.001318  0.000350  0.001318\n",
       "2018-11-16 00:00:00+00:00  0.031900  0.009540  0.010725  0.000845  0.000845\n",
       "2018-11-19 00:00:00+00:00 -0.042816 -0.069426  0.012121  0.000724  0.000724\n",
       "2018-11-20 00:00:00+00:00 -0.004783  0.005616 -0.009402 -0.000241 -0.000241\n",
       "2018-11-21 00:00:00+00:00  0.020579  0.013375 -0.030391  0.000000 -0.030391\n",
       "2018-11-23 00:00:00+00:00  0.018945 -0.004454  0.002325  0.000121  0.002325\n",
       "2018-11-26 00:00:00+00:00  0.011199  0.027924 -0.000636 -0.000241 -0.000241\n",
       "2018-11-27 00:00:00+00:00 -0.060753 -0.012440  0.013728  0.000060  0.013728\n",
       "2018-11-28 00:00:00+00:00  0.053234  0.050809  0.022616  0.000410  0.000410\n",
       "2018-11-29 00:00:00+00:00  0.020326 -0.002317 -0.004437  0.000362  0.000362\n",
       "2018-11-30 00:00:00+00:00  0.017258  0.018081  0.005074  0.000121  0.005074\n",
       "2018-12-03 00:00:00+00:00  0.057179  0.034765 -0.002354 -0.000566 -0.000566\n",
       "2018-12-04 00:00:00+00:00 -0.067855 -0.054586 -0.000650  0.000723 -0.000650\n",
       "2018-12-06 00:00:00+00:00 -0.025611  0.000270 -0.001642  0.000843 -0.001642\n",
       "2018-12-07 00:00:00+00:00 -0.009161 -0.053426 -0.003632  0.001071 -0.003632\n",
       "2018-12-10 00:00:00+00:00  0.002312  0.013841 -0.000688  0.000000 -0.000688\n",
       "2018-12-11 00:00:00+00:00 -0.028882  0.019996  0.008535 -0.000830  0.008535\n",
       "2018-12-12 00:00:00+00:00  0.033812  0.015077  0.004573 -0.000120 -0.000120\n",
       "2018-12-13 00:00:00+00:00 -0.041566 -0.007252  0.004076  0.000770  0.000770\n",
       "2018-12-14 00:00:00+00:00 -0.013924 -0.039434 -0.101428  0.000662  0.000662\n",
       "2018-12-17 00:00:00+00:00 -0.045139 -0.020069 -0.027636  0.000962 -0.027636\n",
       "2018-12-18 00:00:00+00:00 -0.007030  0.000892  0.009912  0.000588  0.009912\n",
       "2018-12-19 00:00:00+00:00 -0.008301 -0.021644 -0.021624  0.000120  0.000120\n",
       "2018-12-20 00:00:00+00:00 -0.020310 -0.025534  0.004781 -0.000120  0.004781\n",
       "2018-12-21 00:00:00+00:00 -0.050760 -0.031074 -0.001014  0.000720  0.000720\n",
       "2018-12-24 00:00:00+00:00  0.005692 -0.024709 -0.039197  0.000840 -0.039197\n",
       "2018-12-26 00:00:00+00:00  0.074888  0.064040  0.029338 -0.000479  0.029338\n",
       "2018-12-27 00:00:00+00:00  0.011755  0.013927  0.005527  0.000839  0.000839\n",
       "2018-12-28 00:00:00+00:00 -0.015854  0.005546 -0.000864  0.001078  0.001078\n",
       "2018-12-31 00:00:00+00:00  0.029759  0.016524  0.014303  0.000598  0.014303\n",
       "\n",
       "[4027 rows x 5 columns]"
      ]
     },
     "execution_count": 65,
     "metadata": {},
     "output_type": "execute_result"
    }
   ],
   "source": [
    "r"
   ]
  },
  {
   "cell_type": "code",
   "execution_count": 60,
   "metadata": {},
   "outputs": [
    {
     "data": {
      "text/plain": [
       "6.6072327825618382"
      ]
     },
     "execution_count": 60,
     "metadata": {},
     "output_type": "execute_result"
    }
   ],
   "source": [
    "r.add(1).cumprod().PF[-1]"
   ]
  },
  {
   "cell_type": "code",
   "execution_count": 46,
   "metadata": {},
   "outputs": [],
   "source": [
    "data1 = get_pricing(['JNJ'], '2003-1-1', '2013-12-31', fields='open_price')\n",
    "data1 = data1.rename_columns_to_tickers()"
   ]
  },
  {
   "cell_type": "code",
   "execution_count": 48,
   "metadata": {},
   "outputs": [
    {
     "data": {
      "text/html": [
       "<div>\n",
       "<table border=\"1\" class=\"dataframe\">\n",
       "  <thead>\n",
       "    <tr style=\"text-align: right;\">\n",
       "      <th></th>\n",
       "      <th>JNJ</th>\n",
       "    </tr>\n",
       "  </thead>\n",
       "  <tbody>\n",
       "    <tr>\n",
       "      <th>2003-01-02 00:00:00+00:00</th>\n",
       "      <td>40.941</td>\n",
       "    </tr>\n",
       "    <tr>\n",
       "      <th>2003-01-03 00:00:00+00:00</th>\n",
       "      <td>42.262</td>\n",
       "    </tr>\n",
       "    <tr>\n",
       "      <th>2003-01-06 00:00:00+00:00</th>\n",
       "      <td>42.684</td>\n",
       "    </tr>\n",
       "    <tr>\n",
       "      <th>2003-01-07 00:00:00+00:00</th>\n",
       "      <td>43.092</td>\n",
       "    </tr>\n",
       "    <tr>\n",
       "      <th>2003-01-08 00:00:00+00:00</th>\n",
       "      <td>42.307</td>\n",
       "    </tr>\n",
       "  </tbody>\n",
       "</table>\n",
       "</div>"
      ],
      "text/plain": [
       "                              JNJ\n",
       "2003-01-02 00:00:00+00:00  40.941\n",
       "2003-01-03 00:00:00+00:00  42.262\n",
       "2003-01-06 00:00:00+00:00  42.684\n",
       "2003-01-07 00:00:00+00:00  43.092\n",
       "2003-01-08 00:00:00+00:00  42.307"
      ]
     },
     "execution_count": 48,
     "metadata": {},
     "output_type": "execute_result"
    }
   ],
   "source": [
    "data1.head()"
   ]
  },
  {
   "cell_type": "code",
   "execution_count": 49,
   "metadata": {
    "scrolled": true
   },
   "outputs": [
    {
     "data": {
      "text/html": [
       "<div>\n",
       "<table border=\"1\" class=\"dataframe\">\n",
       "  <thead>\n",
       "    <tr style=\"text-align: right;\">\n",
       "      <th></th>\n",
       "      <th>IRBT</th>\n",
       "      <th>ISRG</th>\n",
       "      <th>JNJ</th>\n",
       "      <th>SHY</th>\n",
       "    </tr>\n",
       "  </thead>\n",
       "  <tbody>\n",
       "    <tr>\n",
       "      <th>2003-01-02 00:00:00+00:00</th>\n",
       "      <td>NaN</td>\n",
       "      <td>4.067</td>\n",
       "      <td>36.363</td>\n",
       "      <td>69.895</td>\n",
       "    </tr>\n",
       "    <tr>\n",
       "      <th>2003-01-03 00:00:00+00:00</th>\n",
       "      <td>NaN</td>\n",
       "      <td>4.067</td>\n",
       "      <td>37.377</td>\n",
       "      <td>69.903</td>\n",
       "    </tr>\n",
       "    <tr>\n",
       "      <th>2003-01-06 00:00:00+00:00</th>\n",
       "      <td>NaN</td>\n",
       "      <td>4.067</td>\n",
       "      <td>37.706</td>\n",
       "      <td>69.861</td>\n",
       "    </tr>\n",
       "    <tr>\n",
       "      <th>2003-01-07 00:00:00+00:00</th>\n",
       "      <td>NaN</td>\n",
       "      <td>3.973</td>\n",
       "      <td>36.844</td>\n",
       "      <td>69.912</td>\n",
       "    </tr>\n",
       "    <tr>\n",
       "      <th>2003-01-08 00:00:00+00:00</th>\n",
       "      <td>NaN</td>\n",
       "      <td>3.860</td>\n",
       "      <td>36.666</td>\n",
       "      <td>69.971</td>\n",
       "    </tr>\n",
       "  </tbody>\n",
       "</table>\n",
       "</div>"
      ],
      "text/plain": [
       "                           IRBT   ISRG     JNJ     SHY\n",
       "2003-01-02 00:00:00+00:00   NaN  4.067  36.363  69.895\n",
       "2003-01-03 00:00:00+00:00   NaN  4.067  37.377  69.903\n",
       "2003-01-06 00:00:00+00:00   NaN  4.067  37.706  69.861\n",
       "2003-01-07 00:00:00+00:00   NaN  3.973  36.844  69.912\n",
       "2003-01-08 00:00:00+00:00   NaN  3.860  36.666  69.971"
      ]
     },
     "execution_count": 49,
     "metadata": {},
     "output_type": "execute_result"
    }
   ],
   "source": [
    "data.head()"
   ]
  },
  {
   "cell_type": "code",
   "execution_count": null,
   "metadata": {},
   "outputs": [],
   "source": []
  }
 ],
 "metadata": {
  "kernelspec": {
   "display_name": "Python [conda env:anaconda3]",
   "language": "python",
   "name": "conda-env-anaconda3-py"
  },
  "language_info": {
   "codemirror_mode": {
    "name": "ipython",
    "version": 3
   },
   "file_extension": ".py",
   "mimetype": "text/x-python",
   "name": "python",
   "nbconvert_exporter": "python",
   "pygments_lexer": "ipython3",
   "version": "3.6.5"
  }
 },
 "nbformat": 4,
 "nbformat_minor": 2
}
